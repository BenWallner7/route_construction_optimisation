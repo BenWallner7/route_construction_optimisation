{
 "cells": [
  {
   "cell_type": "markdown",
   "id": "ddbded79",
   "metadata": {},
   "source": [
    "## Imports"
   ]
  },
  {
   "cell_type": "code",
   "execution_count": 2,
   "id": "6248ed6e",
   "metadata": {},
   "outputs": [],
   "source": [
    "import pandas as pd\n",
    "import numpy as np\n",
    "import matplotlib.pyplot as plt\n",
    "import seaborn as sns\n",
    "from scipy import stats\n",
    "from scipy.stats import kruskal, mannwhitneyu\n",
    "import json\n",
    "from typing import Dict, List"
   ]
  },
  {
   "cell_type": "code",
   "execution_count": 3,
   "id": "4dc475cd",
   "metadata": {},
   "outputs": [],
   "source": [
    "# Set style for consistent plots\n",
    "plt.style.use('default')\n",
    "sns.set_palette(\"husl\")"
   ]
  },
  {
   "cell_type": "code",
   "execution_count": 4,
   "id": "0e4b33b5",
   "metadata": {},
   "outputs": [],
   "source": [
    "# Load results data\n",
    "results_df = pd.read_csv('route_opt_results.csv')"
   ]
  },
  {
   "cell_type": "markdown",
   "id": "a71568bb",
   "metadata": {},
   "source": [
    "## Number of instances\n",
    "\n",
    "    - 5 methods and 100 instances therefore 500 overall"
   ]
  },
  {
   "cell_type": "code",
   "execution_count": 8,
   "id": "cb8558ca",
   "metadata": {},
   "outputs": [
    {
     "data": {
      "text/plain": [
       "500"
      ]
     },
     "execution_count": 8,
     "metadata": {},
     "output_type": "execute_result"
    }
   ],
   "source": [
    "len(results_df)"
   ]
  },
  {
   "cell_type": "markdown",
   "id": "43ab172d",
   "metadata": {},
   "source": [
    "## Solutions that abide by constraints\n",
    "\n",
    "    - Simulated annealing has a large proportion of invalid solutions."
   ]
  },
  {
   "cell_type": "code",
   "execution_count": 9,
   "id": "a834a9db",
   "metadata": {},
   "outputs": [
    {
     "data": {
      "text/plain": [
       "405"
      ]
     },
     "execution_count": 9,
     "metadata": {},
     "output_type": "execute_result"
    }
   ],
   "source": [
    "len(results_df.loc[results_df['valid']==1])"
   ]
  },
  {
   "cell_type": "markdown",
   "id": "83af5117",
   "metadata": {},
   "source": [
    "## Approach Overview\n",
    "- Description of your algorithmic strategy and reasoning, including all approaches considered"
   ]
  },
  {
   "cell_type": "markdown",
   "metadata": {},
   "source": [
    "## Solving Methods\n",
    "\n",
    "Greedy: A nearest-neighbor greedy heuristic that starts from a chosen start point and repeatedly visits the closest unvisited goal, subject to length and point constraints. This simple heuristic adds the nearest goal if it does not prevent reaching any end point within the total length limit.\n",
    "\n",
    "```plaintext\n",
    "Solution Summary:\n",
    "Total goal points visited: 547\n",
    "Total instances solved: 100\n",
    "Average goals per instance: 5.47\n",
    "Total runtime (wall time): 0.13s\n",
    "Average time per instance: 0.000s\n",
    "```\n",
    "\n",
    "Beam Search: A limited-width search that keeps only the top W partial paths at each step. At each extension step, we expand all current beams by adding one more goal and then prune to the best W candidates, balancing exploration and efficiency (geeksforgeeks.org).\n",
    "\n",
    "```plaintext\n",
    "Solution Summary:\n",
    "Total goal points visited: 699\n",
    "Total instances solved: 100\n",
    "Average goals per instance: 6.99\n",
    "Total runtime (wall time): 0.28s\n",
    "Average time per instance: 0.005s\n",
    "```\n",
    "\n",
    "Simulated Annealing: A stochastic optimization that starts from an initial solution (we use greedy) and makes random local modifications (e.g. 2-opt swaps or adding a goal). Worse solutions can be accepted with a probability that decreases as a “temperature” cools, allowing escape from local optima. We iteratively update the path to maximize goal count (primary) and minimize length (secondary), following standard simulated annealing techniques (geeksforgeeks.org).\n",
    "\n",
    "```plaintext\n",
    "Solution Summary:\n",
    "Total goal points visited: 1470\n",
    "Total instances solved: 100\n",
    "Average goals per instance: 14.70\n",
    "Total runtime (wall time): 0.51s\n",
    "Average time per instance: 0.036s\n",
    "```\n",
    "\n",
    "Local Search (2-Opt): Starting from a greedy solution, we apply the 2-opt swap repeatedly: this cuts two edges and reconnects in the alternate way to reduce total length. The 2-opt algorithm iterates until no further improvement is found, refining the path by removing crossing or long segments (slowandsteadybrain.medium.com).\n",
    "\n",
    "```plaintext\n",
    "Solution Summary:\n",
    "Total goal points visited: 547\n",
    "Total instances solved: 100\n",
    "Average goals per instance: 5.47\n",
    "Total runtime (wall time): 0.13s\n",
    "Average time per instance: 0.002s\n",
    "```\n",
    "\n",
    "Hybrid: A combination of greedy followed by local 2-opt. We first run the greedy heuristic, then apply the 2-opt improvement on that path. This hybrid approach leverages greedy construction and local refinement.\n",
    "\n",
    "```plaintext\n",
    "Solution Summary:\n",
    "Total goal points visited: 547\n",
    "Total instances solved: 100\n",
    "Average goals per instance: 5.47\n",
    "Total runtime (wall time): 0.13s\n",
    "Average time per instance: 0.002s\n",
    "```"
   ]
  },
  {
   "cell_type": "markdown",
   "id": "2e1a0a04",
   "metadata": {},
   "source": [
    "## Implementation Details\n",
    "- Key components of your solution"
   ]
  },
  {
   "cell_type": "markdown",
   "id": "73dbefb5",
   "metadata": {},
   "source": [
    "### 2-opt is a classic local search technique:\n",
    "\n",
    "    2-opt removes two edges from the path and reconnects the two path segments in the opposite order.\n",
    "\n",
    "    This effectively reverses the order of the nodes between those two edges.\n",
    "\n",
    "    If the new route is shorter (and still valid under constraints), we accept it.\n",
    "\n",
    "    The process is repeated until no further improvement is found."
   ]
  },
  {
   "cell_type": "markdown",
   "id": "1643b5ac",
   "metadata": {},
   "source": []
  },
  {
   "cell_type": "markdown",
   "id": "f51fd055",
   "metadata": {},
   "source": [
    "## Performance Analysis\n",
    "- Runtime analysis across different instance types and sizes\n",
    "\n",
    "Tuning parameters for the different approaches\n",
    "\n",
    "## Beam approach\n",
    "\n",
    "Beam width: started at standard value 5, increasing this improves the number of global points reached, this also increases the computation time.\n",
    "\n",
    "alpha: not much change going from 0.001 to 0.1"
   ]
  },
  {
   "cell_type": "markdown",
   "id": "43680a58",
   "metadata": {},
   "source": []
  },
  {
   "cell_type": "markdown",
   "id": "a5629eda",
   "metadata": {},
   "source": [
    "## Results Summary\n",
    "- Final performance metrics and insights gained"
   ]
  },
  {
   "cell_type": "markdown",
   "id": "616256cd",
   "metadata": {},
   "source": []
  },
  {
   "cell_type": "markdown",
   "id": "b7a5895f",
   "metadata": {},
   "source": [
    "## Visualizations\n",
    "- Any relevant graphs or charts that illustrate your findings"
   ]
  },
  {
   "cell_type": "code",
   "execution_count": 31,
   "id": "b615ad13",
   "metadata": {},
   "outputs": [
    {
     "data": {
      "text/plain": [
       "100"
      ]
     },
     "execution_count": 31,
     "metadata": {},
     "output_type": "execute_result"
    }
   ],
   "source": [
    "len(results_df.loc[results_df['method']=='annealing'])"
   ]
  },
  {
   "cell_type": "code",
   "execution_count": 30,
   "id": "730c5ed2",
   "metadata": {},
   "outputs": [
    {
     "data": {
      "text/plain": [
       "np.int64(5)"
      ]
     },
     "execution_count": 30,
     "metadata": {},
     "output_type": "execute_result"
    }
   ],
   "source": [
    "results_df.loc[results_df['method']=='annealing']['valid'].sum()"
   ]
  },
  {
   "cell_type": "code",
   "execution_count": 27,
   "id": "c1cb2011",
   "metadata": {},
   "outputs": [
    {
     "data": {
      "text/plain": [
       "([0, 1, 2, 3, 4],\n",
       " [Text(0, 0, 'greedy'),\n",
       "  Text(1, 0, 'hybrid'),\n",
       "  Text(2, 0, 'local'),\n",
       "  Text(3, 0, 'beam'),\n",
       "  Text(4, 0, 'annealing')])"
      ]
     },
     "execution_count": 27,
     "metadata": {},
     "output_type": "execute_result"
    },
    {
     "data": {
      "image/png": "[encoded data removed]",
      "text/plain": [
       "<Figure size 1400x1000 with 1 Axes>"
      ]
     },
     "metadata": {},
     "output_type": "display_data"
    }
   ],
   "source": [
    "# Goals visited comparison (Box plot)\n",
    "plt.figure(figsize=(14, 10))\n",
    "sns.boxplot(data=results_df, x='method', y='goals_visited', hue='method')\n",
    "plt.title('Goal Points Visited by Method')\n",
    "plt.xlabel('Method', labelpad = 15)\n",
    "plt.ylabel('Goals Points Visited', labelpad = 15)\n",
    "plt.xticks(rotation=45)"
   ]
  },
  {
   "cell_type": "markdown",
   "id": "ed5f81f7",
   "metadata": {},
   "source": []
  }
 ],
 "metadata": {
  "kernelspec": {
   "display_name": "route_construction_opt_env",
   "language": "python",
   "name": "python3"
  },
  "language_info": {
   "codemirror_mode": {
    "name": "ipython",
    "version": 3
   },
   "file_extension": ".py",
   "mimetype": "text/x-python",
   "name": "python",
   "nbconvert_exporter": "python",
   "pygments_lexer": "ipython3",
   "version": "3.10.12"
  }
 },
 "nbformat": 4,
 "nbformat_minor": 5
}
